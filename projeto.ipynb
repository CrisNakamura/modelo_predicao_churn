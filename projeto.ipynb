{
 "cells": [
  {
   "cell_type": "markdown",
   "metadata": {},
   "source": [
    "# Modelo de Predição para Marketing Digital utilizando Classificação\n",
    "\n",
    "## Introdução\n",
    "Um banco está fazendo uma campanha de marketing e quer prever quais clientes vão aderir a um investimento que está sendo oferecido a eles. Com isso, o banco pode ser mais eficiente e contatar os clientes que realmente terão interesse. \n",
    "\n",
    "## Objetivos\n",
    "Para solucionar o problema de negócio, realizaremos um estudo dos dados históricos da campanha de marketing anterior para extrair insights e criar um modelo de machine learning que consiga realizar previsões de clientes que vão aderir ou não ao investimento.\n",
    "\n",
    "## Bibliotecas"
   ]
  },
  {
   "cell_type": "code",
   "execution_count": 1,
   "metadata": {},
   "outputs": [],
   "source": [
    "import pandas as pd\n",
    "import matplotlib.pyplot as plt\n",
    "import plotly.express as px\n",
    "from sklearn.compose import make_column_transformer\n",
    "from sklearn.preprocessing import OneHotEncoder\n",
    "from sklearn.preprocessing import LabelEncoder\n",
    "from sklearn.model_selection import train_test_split\n",
    "from sklearn.dummy import DummyClassifier\n",
    "from sklearn.tree import DecisionTreeClassifier\n",
    "from sklearn.tree import plot_tree\n",
    "from sklearn.preprocessing import MinMaxScaler\n",
    "from sklearn.neighbors import KNeighborsClassifier\n",
    "import warnings\n",
    "import pickle\n",
    "warnings.filterwarnings(\"ignore\")"
   ]
  },
  {
   "cell_type": "markdown",
   "metadata": {},
   "source": [
    "## Carregando os dados"
   ]
  },
  {
   "cell_type": "code",
   "execution_count": 2,
   "metadata": {},
   "outputs": [
    {
     "data": {
      "text/html": [
       "<div>\n",
       "<style scoped>\n",
       "    .dataframe tbody tr th:only-of-type {\n",
       "        vertical-align: middle;\n",
       "    }\n",
       "\n",
       "    .dataframe tbody tr th {\n",
       "        vertical-align: top;\n",
       "    }\n",
       "\n",
       "    .dataframe thead th {\n",
       "        text-align: right;\n",
       "    }\n",
       "</style>\n",
       "<table border=\"1\" class=\"dataframe\">\n",
       "  <thead>\n",
       "    <tr style=\"text-align: right;\">\n",
       "      <th></th>\n",
       "      <th>idade</th>\n",
       "      <th>estado_civil</th>\n",
       "      <th>escolaridade</th>\n",
       "      <th>inadimplencia</th>\n",
       "      <th>saldo</th>\n",
       "      <th>fez_emprestimo</th>\n",
       "      <th>tempo_ult_contato</th>\n",
       "      <th>numero_contatos</th>\n",
       "      <th>aderencia_investimento</th>\n",
       "    </tr>\n",
       "  </thead>\n",
       "  <tbody>\n",
       "    <tr>\n",
       "      <th>0</th>\n",
       "      <td>45</td>\n",
       "      <td>casado (a)</td>\n",
       "      <td>superior</td>\n",
       "      <td>nao</td>\n",
       "      <td>242</td>\n",
       "      <td>nao</td>\n",
       "      <td>587</td>\n",
       "      <td>1</td>\n",
       "      <td>sim</td>\n",
       "    </tr>\n",
       "    <tr>\n",
       "      <th>1</th>\n",
       "      <td>42</td>\n",
       "      <td>casado (a)</td>\n",
       "      <td>medio</td>\n",
       "      <td>nao</td>\n",
       "      <td>1289</td>\n",
       "      <td>nao</td>\n",
       "      <td>250</td>\n",
       "      <td>4</td>\n",
       "      <td>sim</td>\n",
       "    </tr>\n",
       "    <tr>\n",
       "      <th>2</th>\n",
       "      <td>23</td>\n",
       "      <td>solteiro (a)</td>\n",
       "      <td>superior</td>\n",
       "      <td>nao</td>\n",
       "      <td>363</td>\n",
       "      <td>nao</td>\n",
       "      <td>16</td>\n",
       "      <td>18</td>\n",
       "      <td>nao</td>\n",
       "    </tr>\n",
       "    <tr>\n",
       "      <th>3</th>\n",
       "      <td>58</td>\n",
       "      <td>divorciado (a)</td>\n",
       "      <td>superior</td>\n",
       "      <td>nao</td>\n",
       "      <td>1382</td>\n",
       "      <td>nao</td>\n",
       "      <td>700</td>\n",
       "      <td>1</td>\n",
       "      <td>sim</td>\n",
       "    </tr>\n",
       "    <tr>\n",
       "      <th>4</th>\n",
       "      <td>50</td>\n",
       "      <td>casado (a)</td>\n",
       "      <td>medio</td>\n",
       "      <td>nao</td>\n",
       "      <td>3357</td>\n",
       "      <td>nao</td>\n",
       "      <td>239</td>\n",
       "      <td>4</td>\n",
       "      <td>sim</td>\n",
       "    </tr>\n",
       "  </tbody>\n",
       "</table>\n",
       "</div>"
      ],
      "text/plain": [
       "   idade    estado_civil escolaridade inadimplencia  saldo fez_emprestimo  \\\n",
       "0     45      casado (a)     superior           nao    242            nao   \n",
       "1     42      casado (a)        medio           nao   1289            nao   \n",
       "2     23    solteiro (a)     superior           nao    363            nao   \n",
       "3     58  divorciado (a)     superior           nao   1382            nao   \n",
       "4     50      casado (a)        medio           nao   3357            nao   \n",
       "\n",
       "   tempo_ult_contato  numero_contatos aderencia_investimento  \n",
       "0                587                1                    sim  \n",
       "1                250                4                    sim  \n",
       "2                 16               18                    nao  \n",
       "3                700                1                    sim  \n",
       "4                239                4                    sim  "
      ]
     },
     "execution_count": 2,
     "metadata": {},
     "output_type": "execute_result"
    }
   ],
   "source": [
    "dados = pd.read_csv('Dados/marketing_investimento.csv')\n",
    "dados.head()"
   ]
  },
  {
   "cell_type": "code",
   "execution_count": 3,
   "metadata": {},
   "outputs": [
    {
     "name": "stdout",
     "output_type": "stream",
     "text": [
      "<class 'pandas.core.frame.DataFrame'>\n",
      "RangeIndex: 1268 entries, 0 to 1267\n",
      "Data columns (total 9 columns):\n",
      " #   Column                  Non-Null Count  Dtype \n",
      "---  ------                  --------------  ----- \n",
      " 0   idade                   1268 non-null   int64 \n",
      " 1   estado_civil            1268 non-null   object\n",
      " 2   escolaridade            1268 non-null   object\n",
      " 3   inadimplencia           1268 non-null   object\n",
      " 4   saldo                   1268 non-null   int64 \n",
      " 5   fez_emprestimo          1268 non-null   object\n",
      " 6   tempo_ult_contato       1268 non-null   int64 \n",
      " 7   numero_contatos         1268 non-null   int64 \n",
      " 8   aderencia_investimento  1268 non-null   object\n",
      "dtypes: int64(4), object(5)\n",
      "memory usage: 89.3+ KB\n"
     ]
    }
   ],
   "source": [
    "dados.info()"
   ]
  },
  {
   "cell_type": "markdown",
   "metadata": {},
   "source": [
    "## Análise Exploratória dos dados\n",
    "\n",
    "### Aderência de investimento\n",
    "No primeiro gráfico, podemos perceber que a quantidade de pessoas que investem é menor. "
   ]
  },
  {
   "cell_type": "code",
   "execution_count": 4,
   "metadata": {},
   "outputs": [],
   "source": [
    "px.histogram(dados, x='aderencia_investimento', text_auto=True)"
   ]
  },
  {
   "cell_type": "markdown",
   "metadata": {},
   "source": [
    "### Estado civil\n",
    "Ao analisar o próximo gráfico, notamos que as pessoas casadas tendem a não aderir ao investimento, enquanto há um certo equilíbrio nos valores de adesão e não adesão de investimento entre as pessoas divorciadas e solteiras."
   ]
  },
  {
   "cell_type": "code",
   "execution_count": null,
   "metadata": {},
   "outputs": [],
   "source": [
    "px.histogram(dados, x='estado_civil', text_auto=True, color='aderencia_investimento', barmode='group')"
   ]
  },
  {
   "cell_type": "markdown",
   "metadata": {},
   "source": [
    "### Escolaridade\n",
    "\n",
    "Quanto a escolaridade, podemos perceber que os valores referente adesão de investimento entre as pessoas que concluíram o ensino superior é equilibrado, enquanto em relação aos que concluíram até o ensino médio ou fundamental existe uma variação muito maior entre as quantidades de cada categoria."
   ]
  },
  {
   "cell_type": "code",
   "execution_count": null,
   "metadata": {},
   "outputs": [],
   "source": [
    "px.histogram(dados, x='escolaridade', text_auto=True, color='aderencia_investimento', barmode='group')"
   ]
  },
  {
   "cell_type": "markdown",
   "metadata": {},
   "source": [
    "### Inadimplência\n",
    "\n",
    "Podemos identificar que existem poucos valores \"sim\" e muitos valores \"não\" e há uma grande diferença proporcional nos valores de \"não\". Para o valor \"sim\", a proporção dos dados é bem próxima, mas com poucos valores de \"sim\"."
   ]
  },
  {
   "cell_type": "code",
   "execution_count": null,
   "metadata": {},
   "outputs": [],
   "source": [
    "px.histogram(dados, x='inadimplencia', text_auto=True, color='aderencia_investimento', barmode='group')"
   ]
  },
  {
   "cell_type": "markdown",
   "metadata": {},
   "source": [
    "### Emprestimo\n",
    "\n",
    "Semelhante ao gráfico anterior, podemos notar que a maioria das pessoas que investiram não realizaram empréstimo. "
   ]
  },
  {
   "cell_type": "code",
   "execution_count": null,
   "metadata": {},
   "outputs": [],
   "source": [
    "px.histogram(dados, x='fez_emprestimo', text_auto=True, color='aderencia_investimento', barmode='group')"
   ]
  },
  {
   "cell_type": "markdown",
   "metadata": {},
   "source": [
    "### Idade\n",
    "\n",
    "Ao analisar o gráfico, podemos observar que a idade dos clientes varia de 19 a 87 anos. "
   ]
  },
  {
   "cell_type": "code",
   "execution_count": null,
   "metadata": {},
   "outputs": [],
   "source": [
    "px.box(dados, x='idade', color='aderencia_investimento')"
   ]
  },
  {
   "cell_type": "markdown",
   "metadata": {},
   "source": [
    "### Saldo\n",
    "\n",
    "Quanto ao gráfico referente o saldo, temos muito mais pontos fora da curva, porém, não há uma diferença tão grande na distribuição da aderência de investimento entre as duas caixas, sendo possível notar que o valor do saldo está mais concentrado para valores menores de saldo.\n",
    "\n",
    "O valor mínimo do saldo é -1.206 e o valor máximo é de 27.069. Por tratar-se de dados que não estão \"fora\" da realidade, consideramos que não há inconsistências nos dados."
   ]
  },
  {
   "cell_type": "code",
   "execution_count": null,
   "metadata": {},
   "outputs": [],
   "source": [
    "px.box(dados, x='saldo', color='aderencia_investimento')"
   ]
  },
  {
   "cell_type": "markdown",
   "metadata": {},
   "source": [
    "### Tempo de último contato\n",
    "\n",
    "No gráfico abaixo, podemos notaque que tem uma diferença na distribuição dos valores. No boxplot vermelho, que se refere a não aderência do investimento, temos valores mais concentrados em tempos menores. Já no azul, de aderência ao investimento, há valores maiores do tempo."
   ]
  },
  {
   "cell_type": "code",
   "execution_count": null,
   "metadata": {},
   "outputs": [],
   "source": [
    "px.box(dados, x='tempo_ult_contato', color='aderencia_investimento')"
   ]
  },
  {
   "cell_type": "markdown",
   "metadata": {},
   "source": [
    "### Número de contatos\n",
    "\n",
    "Por fim, no gráfico referente o número de contatos, a distribuição de valores estão bem semelhantes."
   ]
  },
  {
   "cell_type": "code",
   "execution_count": null,
   "metadata": {},
   "outputs": [],
   "source": [
    "px.box(dados, x='numero_contatos', color='aderencia_investimento')"
   ]
  },
  {
   "cell_type": "markdown",
   "metadata": {},
   "source": [
    "## Criação do modelo\n",
    "### Separação das variáveis para classificação"
   ]
  },
  {
   "cell_type": "code",
   "execution_count": null,
   "metadata": {},
   "outputs": [],
   "source": [
    "# Definindo features e target\n",
    "X = dados.drop(columns=['aderencia_investimento'], axis=1)\n",
    "y = dados['aderencia_investimento']"
   ]
  },
  {
   "cell_type": "markdown",
   "metadata": {},
   "source": [
    "### Transformando as variáveis categóricas\n",
    "\n",
    "#### Features"
   ]
  },
  {
   "cell_type": "code",
   "execution_count": null,
   "metadata": {},
   "outputs": [],
   "source": [
    "# Definindo as colunas para aplicar o OneHotEncoder.\n",
    "colunas = X.columns\n",
    "\n",
    "# Instanciando o OneHotEncoder\n",
    "ohe = make_column_transformer((OneHotEncoder(drop='if_binary'), # drop='if_binary' remove uma das colunas binárias\n",
    "                              ['estado_civil', 'escolaridade', 'inadimplencia', 'fez_emprestimo']), # colunas a serem transformadas\n",
    "                               remainder='passthrough', # mantém as colunas que não foram transformadas\n",
    "                               sparse_threshold=0 # retorna um array numpy e não uma matriz esparsa\n",
    "                              )\n",
    "\n",
    "# Aplicando o OneHotEncoder\n",
    "X = ohe.fit_transform(X)\n",
    "\n",
    "# Transformando o array numpy em DataFrame\n",
    "pd.DataFrame(X, columns=ohe.get_feature_names_out(colunas))"
   ]
  },
  {
   "cell_type": "markdown",
   "metadata": {},
   "source": [
    "#### Target"
   ]
  },
  {
   "cell_type": "code",
   "execution_count": null,
   "metadata": {},
   "outputs": [],
   "source": [
    "# Instanciando o LabelEncoder\n",
    "le = LabelEncoder()\n",
    "\n",
    "# Aplicando o LabelEncoder\n",
    "y = le.fit_transform(y)"
   ]
  },
  {
   "cell_type": "markdown",
   "metadata": {},
   "source": [
    "### Divisão dos dados para treino e teste"
   ]
  },
  {
   "cell_type": "code",
   "execution_count": null,
   "metadata": {},
   "outputs": [],
   "source": [
    "# Dividindo os dados em treino e teste\n",
    "X_treino, X_teste, y_treino, y_teste = train_test_split(X, y, stratify=y, test_size=0.2, random_state=5)"
   ]
  },
  {
   "cell_type": "markdown",
   "metadata": {},
   "source": [
    "### Modelagem - DummyClassifier\n",
    "\n",
    "Após separar os dados de teste, definimos um baseline utilizando DummyClassifier que retornou acerto de 60%."
   ]
  },
  {
   "cell_type": "code",
   "execution_count": null,
   "metadata": {},
   "outputs": [],
   "source": [
    "# Instanciando o DummyClassifier\n",
    "modelo_dummy = DummyClassifier()\n",
    "\n",
    "# Treinando o modelo\n",
    "modelo_dummy.fit(X_treino, y_treino)\n",
    "\n",
    "# Calculando a acurácia\n",
    "modelo_dummy.score(X_teste, y_teste)"
   ]
  },
  {
   "cell_type": "markdown",
   "metadata": {},
   "source": [
    "### Modelagem - DecisionTreeClassifier\n",
    "\n",
    "Ao implementar e analisar o modelo, podemos notar que a acurácia do modelo para os dados de treino é de 76%, enquanto a acurácia para os dados de teste é de 70,8%. "
   ]
  },
  {
   "cell_type": "code",
   "execution_count": null,
   "metadata": {},
   "outputs": [],
   "source": [
    "# Instanciando o DecisionTreeClassifier\n",
    "modelo_arvore = DecisionTreeClassifier(max_depth=3, random_state=5)\n",
    "\n",
    "# Treinando o modelo\n",
    "modelo_arvore.fit(X_treino, y_treino)\n",
    "\n",
    "# Realizando previsões\n",
    "modelo_arvore.predict(X_teste)\n",
    "\n",
    "# Calculando a acurácia do modelo com os dados de treino\n",
    "print(f'Acurácia (treino): {modelo_arvore.score(X_treino, y_treino) * 100}%')\n",
    "\n",
    "# Calculando a acurácia do modelo com os dados de teste\n",
    "print(f'Acurácia (teste): {modelo_arvore.score(X_teste, y_teste) * 100}%')"
   ]
  },
  {
   "cell_type": "code",
   "execution_count": null,
   "metadata": {},
   "outputs": [],
   "source": [
    "nome_colunas = ['casado (a)',\n",
    "                'divorciado (a)',\n",
    "                'solteiro (a)',\n",
    "                'fundamental',\n",
    "                'medio',\n",
    "                'superior',\n",
    "                'inadimplencia',\n",
    "                'fez_emprestimo',\n",
    "                'idade',\n",
    "                'saldo',\n",
    "                'tempo_ult_contato',\n",
    "                'numero_contatos']\n",
    "\n",
    "\n",
    "# Plotando a árvore\n",
    "plt.figure(figsize=(15, 10))\n",
    "plot_tree(modelo_arvore, filled=True, feature_names=nome_colunas, class_names=['nao', 'sim'], rounded=True)\n",
    "plt.show()"
   ]
  },
  {
   "cell_type": "markdown",
   "metadata": {},
   "source": [
    "### Normalização dos dados\n",
    "\n",
    "Abaixo realizamos a normalização dos dados para fins de aplicação do algoritmo K-Nearest Neighbors."
   ]
  },
  {
   "cell_type": "code",
   "execution_count": null,
   "metadata": {},
   "outputs": [],
   "source": [
    "# Instanciando o MinMaxScaler\n",
    "mms = MinMaxScaler()\n",
    "\n",
    "# Aplicando o MinMaxScaler\n",
    "X_treino_norm = mms.fit_transform(X_treino)\n",
    "\n",
    "# Transformando em DataFrame\n",
    "X_treino_norm = pd.DataFrame(X_treino_norm, columns=nome_colunas)"
   ]
  },
  {
   "cell_type": "markdown",
   "metadata": {},
   "source": [
    "### Modelagem - K-Nearest Neighbors\n",
    "\n",
    "Ao avaliar o modelo KNN, notamos que obteve um resultado de 69%. É resultado satisfatório ao comparar com o modelo dummy, mas precisaremos comparar agora os resultados desse modelo com o modelo de árvore de decisão."
   ]
  },
  {
   "cell_type": "code",
   "execution_count": null,
   "metadata": {},
   "outputs": [],
   "source": [
    "# Instanciando o KNeighborsClassifier\n",
    "modelo_knn = KNeighborsClassifier(n_neighbors=5)\n",
    "\n",
    "# Treinando o modelo\n",
    "modelo_knn.fit(X_treino_norm, y_treino)\n",
    "\n",
    "# Aplicando o MinMaxScaler\n",
    "X_teste_norm = mms.transform(X_teste)\n",
    "\n",
    "# Calculando a acurácia do modelo\n",
    "print(f'Acurácia: {modelo_knn.score(X_teste_norm, y_teste) * 100}%')"
   ]
  },
  {
   "cell_type": "markdown",
   "metadata": {},
   "source": [
    "## Exportando o modelo\n",
    "\n",
    "Ao comparar os resultados de cada modelo, optamos pelo DecisionTreeClassifier por apresentar maior acurácia. Sendo assim, exportamos o modelo conforme abaixo utilizando biblioteca pickle."
   ]
  },
  {
   "cell_type": "code",
   "execution_count": null,
   "metadata": {},
   "outputs": [],
   "source": [
    "# Salvando o modelo\n",
    "with open('modelo_ohe.pkl', 'wb') as file:\n",
    "    pickle.dump(ohe, file)\n",
    "\n",
    "with open('modelo_arvore.pkl', 'wb') as file:\n",
    "    pickle.dump(modelo_arvore, file)"
   ]
  },
  {
   "cell_type": "markdown",
   "metadata": {},
   "source": [
    "## Exemplo de aplicação\n",
    "\n",
    "Para aplicar o modelo, foi criado um conjunto de dados abaixo. Ao importar os modelos, primeiramente precisa normalizar os dados utilizando o modelo OneHotEncoder e após isso realizar a predição com o modelo DecisionTreeClassifier. \n",
    "A partir da entrada de dados abaixo, o modelo retornou \"1\", ou seja, o cliente tende a investir."
   ]
  },
  {
   "cell_type": "code",
   "execution_count": null,
   "metadata": {},
   "outputs": [],
   "source": [
    "# Dados para teste\n",
    "novo_dado = {\n",
    "    'idade': [45],\n",
    "    'estado_civil':['solteiro (a)'],\n",
    "    'escolaridade':['superior'],\n",
    "    'inadimplencia': ['nao'],\n",
    "    'saldo': [23040],\n",
    "    'fez_emprestimo': ['nao'],\n",
    "    'tempo_ult_contato': [800],\n",
    "    'numero_contatos': [4]\n",
    "}\n",
    "\n",
    "# Transformando em DataFrame\n",
    "novo_dado = pd.DataFrame(novo_dado)"
   ]
  },
  {
   "cell_type": "code",
   "execution_count": null,
   "metadata": {},
   "outputs": [],
   "source": [
    "# Carregando os modelos\n",
    "modelo_ohe = pd.read_pickle('modelo_ohe.pkl')\n",
    "modelo_arvore = pd.read_pickle('modelo_arvore.pkl')"
   ]
  },
  {
   "cell_type": "code",
   "execution_count": null,
   "metadata": {},
   "outputs": [],
   "source": [
    "# Aplicando o OneHotEncoder\n",
    "novo_dado = modelo_ohe.transform(novo_dado)\n",
    "\n",
    "# Realizando previsões\n",
    "modelo_arvore.predict(novo_dado)"
   ]
  }
 ],
 "metadata": {
  "kernelspec": {
   "display_name": "base",
   "language": "python",
   "name": "python3"
  },
  "language_info": {
   "codemirror_mode": {
    "name": "ipython",
    "version": 3
   },
   "file_extension": ".py",
   "mimetype": "text/x-python",
   "name": "python",
   "nbconvert_exporter": "python",
   "pygments_lexer": "ipython3",
   "version": "3.11.5"
  }
 },
 "nbformat": 4,
 "nbformat_minor": 2
}
